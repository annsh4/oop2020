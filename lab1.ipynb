{
 "cells": [
  {
   "cell_type": "markdown",
   "metadata": {},
   "source": [
    "Індивідуальне завдання №2"
   ]
  },
  {
   "cell_type": "markdown",
   "metadata": {},
   "source": [
    "1) Створити метод переводу студента на наступний курс навчання. Студент розпочинає навчання з 1-го курсу\n",
    "\n",
    "2) Після 5 років навчання видати інформацію про завершення навчання в університеті"
   ]
  },
  {
   "cell_type": "code",
   "execution_count": 30,
   "metadata": {},
   "outputs": [
    {
     "name": "stdout",
     "output_type": "stream",
     "text": [
      "1 рік навчання\n",
      "2 рік навчання\n",
      "3 рік навчання\n",
      "Навчання в університеті завершено\n"
     ]
    }
   ],
   "source": [
    "class Student():\n",
    "    term = 1\n",
    "\n",
    "    def change_term(self):\n",
    "        self.term += 1\n",
    "        \n",
    "    def end_studying(self):\n",
    "        self.change_term()\n",
    "        if self.term > 3:\n",
    "            print(\"Навчання в університеті завершено\")\n",
    "\n",
    "petro = Student()\n",
    "for i in range(0,3):\n",
    "    print(petro.term, \"рік навчання\")\n",
    "    petro.end_studying()"
   ]
  },
  {
   "cell_type": "markdown",
   "metadata": {},
   "source": [
    "Індивідуальне завдання №3"
   ]
  },
  {
   "cell_type": "markdown",
   "metadata": {},
   "source": [
    "1) Cтворити клас (будь-якої предметної галузі). Визначити 4 методи у створеному класі.\n",
    "\n",
    "2) Застосувати визначені методи до 3-х різних екземплярів класу. Провести інтерпретацію."
   ]
  },
  {
   "cell_type": "code",
   "execution_count": 31,
   "metadata": {},
   "outputs": [
    {
     "name": "stdout",
     "output_type": "stream",
     "text": [
      "Площа 1-го прямокутника становить 50 \n",
      "Периметр - 60 \n",
      "Ширина - 5 \n",
      "Довжина - 10\n",
      "\n",
      "Площа 2-го прямокутника становить 300 \n",
      "Периметр - 608 \n",
      "Ширина - 2 \n",
      "Довжина - 150\n",
      "\n",
      "Площа 3-го прямокутника становить 33 \n",
      "Периметр - 56 \n",
      "Ширина - 3 \n",
      "Довжина - 11\n"
     ]
    }
   ],
   "source": [
    "class Rectangle:\n",
    "    def __init__(self, width, height):\n",
    "        self.__width = width\n",
    "        self.__height = height\n",
    "        \n",
    "    def area(self):\n",
    "        return self.__width * self.__height\n",
    "    \n",
    "    def perimeter(self):\n",
    "        return 4 * (self.__width + self.__height)\n",
    "    \n",
    "    def get_width(self):\n",
    "        return self.__width\n",
    "    \n",
    "    def get_height(self):\n",
    "        return self.__height\n",
    "    \n",
    "rec1 = Rectangle(5, 10)\n",
    "rec2 = Rectangle(2, 150)\n",
    "rec3 = Rectangle(3, 11)\n",
    "print(\"Площа 1-го прямокутника становить\", rec1.area(), \"\\nПериметр -\", rec1.perimeter(), \n",
    "      \"\\nШирина -\", rec1.get_width(), \"\\nДовжина -\", rec1.get_height())\n",
    "print(\"\\nПлоща 2-го прямокутника становить\", rec2.area(), \"\\nПериметр -\", rec2.perimeter(), \n",
    "      \"\\nШирина -\", rec2.get_width(), \"\\nДовжина -\", rec2.get_height())\n",
    "print(\"\\nПлоща 3-го прямокутника становить\", rec3.area(), \"\\nПериметр -\", rec3.perimeter(), \n",
    "      \"\\nШирина -\", rec3.get_width(), \"\\nДовжина -\", rec3.get_height())"
   ]
  },
  {
   "cell_type": "markdown",
   "metadata": {},
   "source": [
    "3) Створити один базовий клас з 3-ма власними методами.\n",
    "\n",
    "4) Створити успадкований клас з 2-ма іншими методами (ніж у базовому класі) на основі базового класу\n",
    "\n",
    "5) Створити 2 екземпляри успадкованого класу. Застосувати до цих екземплярів: 1 метод базового класу і 1 метод успадкованого класу. Методи базового і успадкованого класу повинні бути різними для різних екземплярів класу."
   ]
  },
  {
   "cell_type": "code",
   "execution_count": 5,
   "metadata": {},
   "outputs": [
    {
     "name": "stdout",
     "output_type": "stream",
     "text": [
      "Електроніка\n",
      "MP3 Плеєр\n",
      "Магазин Фокстрот\n",
      "Оберіть трек\n",
      "\n",
      "Електроніка\n",
      "MP3 Плеєр\n",
      "Зарядіть пристрій\n",
      "Марка Apple\n"
     ]
    }
   ],
   "source": [
    "class Electronics:\n",
    "    def __init__(self):\n",
    "        print(\"Електроніка\")\n",
    "\n",
    "    def name(self):\n",
    "        print(\"Магазин Фокстрот\")\n",
    "\n",
    "    def charge(self):\n",
    "        print(\"Зарядіть пристрій\")\n",
    "\n",
    "class MP3Player(Electronics):\n",
    "    def __init__(self):\n",
    "        Electronics.__init__(self)\n",
    "        print(\"MP3 Плеєр\")\n",
    "\n",
    "    def brand(self):\n",
    "        print(\"Марка Apple\")\n",
    "\n",
    "    def play_music(self):\n",
    "        print(\"Оберіть трек\")\n",
    "\n",
    "player1 = MP3Player()\n",
    "player1.name()\n",
    "player1.play_music()  \n",
    "\n",
    "print()\n",
    "\n",
    "player2 = MP3Player()\n",
    "player2.charge() \n",
    "player2.brand()"
   ]
  },
  {
   "cell_type": "code",
   "execution_count": null,
   "metadata": {},
   "outputs": [],
   "source": []
  }
 ],
 "metadata": {
  "kernelspec": {
   "display_name": "conda_python3",
   "language": "python",
   "name": "conda_python3"
  },
  "language_info": {
   "codemirror_mode": {
    "name": "ipython",
    "version": 3
   },
   "file_extension": ".py",
   "mimetype": "text/x-python",
   "name": "python",
   "nbconvert_exporter": "python",
   "pygments_lexer": "ipython3",
   "version": "3.6.10"
  }
 },
 "nbformat": 4,
 "nbformat_minor": 4
}
