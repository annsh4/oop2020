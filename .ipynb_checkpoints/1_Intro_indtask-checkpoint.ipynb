{
 "cells": [
  {
   "cell_type": "markdown",
   "metadata": {},
   "source": [
    "### Індивідуальне завдання №1\n",
    "Підрахувати $3^{121}$. Виведіть на екран отримане значення "
   ]
  },
  {
   "cell_type": "code",
   "execution_count": 2,
   "metadata": {},
   "outputs": [
    {
     "name": "stdout",
     "output_type": "stream",
     "text": [
      "Відповідь №1: 5391030899743293631239539488528815119194426882613553319203\n"
     ]
    }
   ],
   "source": [
    "print(\"Відповідь №1:\", (3 ** 121))"
   ]
  },
  {
   "cell_type": "markdown",
   "metadata": {},
   "source": [
    "### Індивідуальне завдання №2\n",
    "Підрахувати 20!. Виведіть на екран отримане значення."
   ]
  },
  {
   "cell_type": "code",
   "execution_count": 3,
   "metadata": {},
   "outputs": [
    {
     "name": "stdout",
     "output_type": "stream",
     "text": [
      "Відповідь №2: 2432902008176640000\n"
     ]
    }
   ],
   "source": [
    "n = 20\n",
    "factorial = 1\n",
    "while n > 1:\n",
    "    factorial *= n\n",
    "    n -= 1\n",
    "    \n",
    "print(\"Відповідь №2:\", factorial)"
   ]
  },
  {
   "cell_type": "markdown",
   "metadata": {},
   "source": [
    "### Індивідуальне завдання №3\n",
    "Підрахувати довжину гіпотенузи прямокутного трикутника зі сторонами 342 та 971."
   ]
  },
  {
   "cell_type": "code",
   "execution_count": 4,
   "metadata": {},
   "outputs": [
    {
     "name": "stdout",
     "output_type": "stream",
     "text": [
      "Відповідь №3: 1029.47\n"
     ]
    }
   ],
   "source": [
    "import math\n",
    "\n",
    "a = 342\n",
    "b = 971\n",
    "c = math.sqrt(a ** 2 + b ** 2)\n",
    "print(\"Відповідь №3:\", \"%.2f\" % c)"
   ]
  },
  {
   "cell_type": "markdown",
   "metadata": {},
   "source": [
    "### Індивідуальне завдання №4\n",
    "Виведіть українську літеру 'Ї' (українську, велику) 100 разів підряд. Рядок без лапок. "
   ]
  },
  {
   "cell_type": "code",
   "execution_count": 5,
   "metadata": {},
   "outputs": [
    {
     "name": "stdout",
     "output_type": "stream",
     "text": [
      "Відповідь №4: ЇЇЇЇЇЇЇЇЇЇЇЇЇЇЇЇЇЇЇЇЇЇЇЇЇЇЇЇЇЇЇЇЇЇЇЇЇЇЇЇЇЇЇЇЇЇЇЇЇЇЇЇЇЇЇЇЇЇЇЇЇЇЇЇЇЇЇЇЇЇЇЇЇЇЇЇЇЇЇЇЇЇЇЇЇЇЇЇЇЇЇЇЇЇЇЇЇЇЇЇ\n"
     ]
    }
   ],
   "source": [
    "print(\"Відповідь №4:\", \"Ї\" * 100)"
   ]
  },
  {
   "cell_type": "markdown",
   "metadata": {},
   "source": [
    "### Індивідуальне завдання №5\n",
    "Задані два цілих числа, які вводяться через консоль за допомогою функції input(). Виведіть найбільше значення із них. "
   ]
  },
  {
   "cell_type": "code",
   "execution_count": 6,
   "metadata": {},
   "outputs": [
    {
     "name": "stdin",
     "output_type": "stream",
     "text": [
      "Введіть перше число:  15\n",
      "Введіть друге число:  30\n"
     ]
    },
    {
     "name": "stdout",
     "output_type": "stream",
     "text": [
      "Відповідь №5: Найбільшим числом є 30\n"
     ]
    }
   ],
   "source": [
    "try:\n",
    "    num1 = int(input(\"Введіть перше число: \"))\n",
    "    num2 = int(input(\"Введіть друге число: \"))\n",
    "    \n",
    "    if num1 == num2:\n",
    "        print(\"Числа однакові\")\n",
    "    else:\n",
    "        print(\"Відповідь №5: Найбільшим числом є\", max(num1, num2))\n",
    "except:\n",
    "    print(\"Введіть ціле число\")"
   ]
  },
  {
   "cell_type": "markdown",
   "metadata": {},
   "source": [
    "### Індивідуальне завдання №6\n",
    "Задані два цілих числа, які вводяться через консоль за допомогою функції input(). Програма повинна вивести число 1, якщо перше число більше другого; число 2, якщо друге число більше першого або 0, якщо вони однакові."
   ]
  },
  {
   "cell_type": "code",
   "execution_count": 1,
   "metadata": {},
   "outputs": [
    {
     "name": "stdin",
     "output_type": "stream",
     "text": [
      "Введіть перше число:  15\n",
      "Введіть друге число:  2\n"
     ]
    },
    {
     "name": "stdout",
     "output_type": "stream",
     "text": [
      "Відповідь №6: 1\n"
     ]
    }
   ],
   "source": [
    "try:\n",
    "    num1 = int(input(\"Введіть перше число: \"))\n",
    "    num2 = int(input(\"Введіть друге число: \"))\n",
    "    \n",
    "    if num1 > num2:\n",
    "        print(\"Відповідь №6: 1\")\n",
    "\n",
    "    if num1 < num2:\n",
    "        print(\"Відповідь №6: 2\")\n",
    "    \n",
    "    if num1 == num2:\n",
    "        print(\"Відповідь №6: 0\")\n",
    "except:\n",
    "    print(\"Введіть ціле число\")"
   ]
  },
  {
   "cell_type": "markdown",
   "metadata": {},
   "source": [
    "### Індивідуальне завдання №7\n",
    "Число 321 записали 45 разів підряд. Отримане 135-значне число піднесли до другого ступеня. Який буде результат ? "
   ]
  },
  {
   "cell_type": "code",
   "execution_count": 7,
   "metadata": {},
   "outputs": [
    {
     "name": "stdout",
     "output_type": "stream",
     "text": [
      "Відповідь №7: 103247391535679823968112256400544688832977121265409553697841986130274418562706850995139283427571715860004148292436580724869013157301445383239094950806662518374230085941797653509365221076932788644500356212067923779635491347203058914770626482338194049905761617473329185041\n"
     ]
    }
   ],
   "source": [
    "n = str(321) * 45\n",
    "print(\"Відповідь №7:\", int(n) ** 2)"
   ]
  },
  {
   "cell_type": "markdown",
   "metadata": {},
   "source": [
    "### Увага: При захисті завдання демонструється з власного інстансу Sagemaker Jupyter Notebook.   "
   ]
  },
  {
   "cell_type": "code",
   "execution_count": null,
   "metadata": {},
   "outputs": [],
   "source": []
  }
 ],
 "metadata": {
  "kernelspec": {
   "display_name": "conda_python3",
   "language": "python",
   "name": "conda_python3"
  },
  "language_info": {
   "codemirror_mode": {
    "name": "ipython",
    "version": 3
   },
   "file_extension": ".py",
   "mimetype": "text/x-python",
   "name": "python",
   "nbconvert_exporter": "python",
   "pygments_lexer": "ipython3",
   "version": "3.6.10"
  }
 },
 "nbformat": 4,
 "nbformat_minor": 4
}
